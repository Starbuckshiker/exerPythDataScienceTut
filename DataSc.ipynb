{
 "cells": [
  {
   "cell_type": "code",
   "execution_count": 1,
   "metadata": {},
   "outputs": [
    {
     "name": "stdout",
     "output_type": "stream",
     "text": [
      "[37.11363636 44.32727273 43.29545455 42.26363636 39.17272727 40.20454545]\n"
     ]
    }
   ],
   "source": [
    "weight_kg = [81.65, 97.52, 95.25, 92.98, 86.18, 88.45]\n",
    "\n",
    "import numpy as np\n",
    "\n",
    "# Create a numpy array np_weight_kg from weight_kg\n",
    "\n",
    "np_weight_kg = np.array(weight_kg)  \n",
    "\n",
    "# Create np_weight_lbs from np_weight_kg\n",
    "np_weight_lbs = np_weight_kg / 2.2\n",
    "# Print out np_weight_lbs\n",
    "print(np_weight_lbs)"
   ]
  },
  {
   "cell_type": "code",
   "execution_count": 2,
   "metadata": {},
   "outputs": [
    {
     "name": "stdout",
     "output_type": "stream",
     "text": [
      "[179.63  214.544 209.55  204.556 189.596 194.59 ]\n"
     ]
    }
   ],
   "source": [
    "weight_kg = [81.65, 97.52, 95.25, 92.98, 86.18, 88.45]\n",
    "\n",
    "import numpy as np\n",
    "\n",
    "# Create a numpy array np_weight_kg from weight_kg\n",
    "np_weight_kg = np.array(weight_kg)\n",
    "\n",
    "# Create np_weight_lbs from np_weight_kg\n",
    "np_weight_lbs = np_weight_kg * 2.2\n",
    "\n",
    "# Print out np_weight_lbs\n",
    "print(np_weight_lbs)"
   ]
  },
  {
   "cell_type": "code",
   "execution_count": 4,
   "metadata": {},
   "outputs": [
    {
     "name": "stdout",
     "output_type": "stream",
     "text": [
      "        country    capital    area  population\n",
      "0        Brazil   Brasilia   8.516      200.40\n",
      "1        Russia     Moscow  17.100      143.50\n",
      "2         India  New Dehli   3.286     1252.00\n",
      "3         China    Beijing   9.597     1357.00\n",
      "4  South Africa   Pretoria   1.221       52.98\n"
     ]
    }
   ],
   "source": [
    "dict = {\"country\": [\"Brazil\", \"Russia\", \"India\", \"China\", \"South Africa\"],\n",
    "       \"capital\": [\"Brasilia\", \"Moscow\", \"New Dehli\", \"Beijing\", \"Pretoria\"],\n",
    "       \"area\": [8.516, 17.10, 3.286, 9.597, 1.221],\n",
    "       \"population\": [200.4, 143.5, 1252, 1357, 52.98] }\n",
    "\n",
    "import pandas as pd\n",
    "brics = pd.DataFrame(dict)\n",
    "print(brics)"
   ]
  },
  {
   "cell_type": "code",
   "execution_count": 5,
   "metadata": {},
   "outputs": [
    {
     "name": "stdout",
     "output_type": "stream",
     "text": [
      "         country    capital    area  population\n",
      "BR        Brazil   Brasilia   8.516      200.40\n",
      "RU        Russia     Moscow  17.100      143.50\n",
      "IN         India  New Dehli   3.286     1252.00\n",
      "CH         China    Beijing   9.597     1357.00\n",
      "SA  South Africa   Pretoria   1.221       52.98\n"
     ]
    }
   ],
   "source": [
    "# Set the index for brics\n",
    "brics.index = [\"BR\", \"RU\", \"IN\", \"CH\", \"SA\"]\n",
    "\n",
    "# Print out brics with new index values\n",
    "print(brics)"
   ]
  },
  {
   "cell_type": "code",
   "execution_count": 7,
   "metadata": {},
   "outputs": [
    {
     "name": "stdout",
     "output_type": "stream",
     "text": [
      "country       Russia\n",
      "capital       Moscow\n",
      "area            17.1\n",
      "population     143.5\n",
      "Name: RU, dtype: object\n",
      "         country   capital   area  population\n",
      "BR        Brazil  Brasilia  8.516      200.40\n",
      "SA  South Africa  Pretoria  1.221       52.98\n"
     ]
    }
   ],
   "source": [
    "print(brics.iloc[1])\n",
    "\n",
    "print(brics.loc[[\"BR\", \"SA\"]])"
   ]
  },
  {
   "cell_type": "code",
   "execution_count": 10,
   "metadata": {},
   "outputs": [
    {
     "name": "stdout",
     "output_type": "stream",
     "text": [
      "   Dimensions.Height  Dimensions.Length  Dimensions.Width  \\\n",
      "0                140                143               202   \n",
      "1                140                143               202   \n",
      "2                140                143               202   \n",
      "3                140                143               202   \n",
      "4                140                143               202   \n",
      "\n",
      "  Engine Information.Driveline                Engine Information.Engine Type  \\\n",
      "0              All-wheel drive          Audi 3.2L 6 cylinder 250hp 236ft-lbs   \n",
      "1            Front-wheel drive  Audi 2.0L 4 cylinder 200 hp 207 ft-lbs Turbo   \n",
      "2            Front-wheel drive  Audi 2.0L 4 cylinder 200 hp 207 ft-lbs Turbo   \n",
      "3              All-wheel drive  Audi 2.0L 4 cylinder 200 hp 207 ft-lbs Turbo   \n",
      "4              All-wheel drive  Audi 2.0L 4 cylinder 200 hp 207 ft-lbs Turbo   \n",
      "\n",
      "   Engine Information.Hybrid  Engine Information.Number of Forward Gears  \\\n",
      "0                       True                                           6   \n",
      "1                       True                                           6   \n",
      "2                       True                                           6   \n",
      "3                       True                                           6   \n",
      "4                       True                                           6   \n",
      "\n",
      "  Engine Information.Transmission  Fuel Information.City mpg  \\\n",
      "0  6 Speed Automatic Select Shift                         18   \n",
      "1  6 Speed Automatic Select Shift                         22   \n",
      "2                  6 Speed Manual                         21   \n",
      "3  6 Speed Automatic Select Shift                         21   \n",
      "4  6 Speed Automatic Select Shift                         21   \n",
      "\n",
      "  Fuel Information.Fuel Type  Fuel Information.Highway mpg  \\\n",
      "0                   Gasoline                            25   \n",
      "1                   Gasoline                            28   \n",
      "2                   Gasoline                            30   \n",
      "3                   Gasoline                            28   \n",
      "4                   Gasoline                            28   \n",
      "\n",
      "  Identification.Classification           Identification.ID  \\\n",
      "0        Automatic transmission            2009 Audi A3 3.2   \n",
      "1        Automatic transmission       2009 Audi A3 2.0 T AT   \n",
      "2           Manual transmission          2009 Audi A3 2.0 T   \n",
      "3        Automatic transmission  2009 Audi A3 2.0 T Quattro   \n",
      "4        Automatic transmission  2009 Audi A3 2.0 T Quattro   \n",
      "\n",
      "  Identification.Make Identification.Model Year  Identification.Year  \\\n",
      "0                Audi              2009 Audi A3                 2009   \n",
      "1                Audi              2009 Audi A3                 2009   \n",
      "2                Audi              2009 Audi A3                 2009   \n",
      "3                Audi              2009 Audi A3                 2009   \n",
      "4                Audi              2009 Audi A3                 2009   \n",
      "\n",
      "   Engine Information.Engine Statistics.Horsepower  \\\n",
      "0                                              250   \n",
      "1                                              200   \n",
      "2                                              200   \n",
      "3                                              200   \n",
      "4                                              200   \n",
      "\n",
      "   Engine Information.Engine Statistics.Torque  \n",
      "0                                          236  \n",
      "1                                          207  \n",
      "2                                          207  \n",
      "3                                          207  \n",
      "4                                          207  \n"
     ]
    }
   ],
   "source": [
    "import pandas as pd\n",
    "\n",
    "filepath = r\"C:\\Users\\dlist\\OneDrive\\Desktop\\Comp. Sci- Nur 6806\\Pyth Data Science\\exerPythDataScienceTut\\cars (1).csv\"\n",
    "# Import the cars.csv data: cars\n",
    "cars = pd.read_csv(filepath)\n",
    "\n",
    "# Print out cars\n",
    "print(cars.head())\n"
   ]
  },
  {
   "cell_type": "code",
   "execution_count": null,
   "metadata": {},
   "outputs": [],
   "source": []
  }
 ],
 "metadata": {
  "kernelspec": {
   "display_name": "dataSc",
   "language": "python",
   "name": "datasc"
  },
  "language_info": {
   "codemirror_mode": {
    "name": "ipython",
    "version": 3
   },
   "file_extension": ".py",
   "mimetype": "text/x-python",
   "name": "python",
   "nbconvert_exporter": "python",
   "pygments_lexer": "ipython3",
   "version": "3.8.3"
  }
 },
 "nbformat": 4,
 "nbformat_minor": 4
}
